{
 "cells": [
  {
   "cell_type": "code",
   "execution_count": null,
   "metadata": {
    "collapsed": true
   },
   "outputs": [],
   "source": [
    "val_predict = open('val_public_predict.csv','r',encoding='utf8')\n",
    "val = open('train.csv','r',encoding='utf8')\n",
    "val_predict_lines = val_predict.readlines()\n",
    "val_lines = val.readlines()\n",
    "right_num = 0\n",
    "total = 0\n",
    "for i in range(len(val_lines)):\n",
    "    sub_predict = val_predict_lines[i].strip().split(',')[1]\n",
    "    sen_predict = val_predict_lines[i].strip().split(',')[2]    \n",
    "    sub = val_lines[i].strip().split(',')[2]\n",
    "    sen = val_lines[i].strip().split(',')[3]\n",
    "    total += 1\n",
    "    "
   ]
  }
 ],
 "metadata": {
  "kernelspec": {
   "display_name": "Python 3",
   "language": "python",
   "name": "python3"
  },
  "language_info": {
   "codemirror_mode": {
    "name": "ipython",
    "version": 3
   },
   "file_extension": ".py",
   "mimetype": "text/x-python",
   "name": "python",
   "nbconvert_exporter": "python",
   "pygments_lexer": "ipython3",
   "version": "3.6.0"
  }
 },
 "nbformat": 4,
 "nbformat_minor": 2
}
