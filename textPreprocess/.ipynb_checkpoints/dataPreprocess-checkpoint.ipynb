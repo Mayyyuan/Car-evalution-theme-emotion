{
 "cells": [
  {
   "cell_type": "code",
   "execution_count": 39,
   "metadata": {
    "collapsed": false
   },
   "outputs": [
    {
     "name": "stdout",
     "output_type": "stream",
     "text": [
      "8290\n",
      "8290\n"
     ]
    }
   ],
   "source": [
    "train = open('../train.csv','r',encoding='utf8')\n",
    "o = open('./train_convert10cates.txt','w',encoding='utf8')\n",
    "senti_vocab = open('./train_senti_vocab.txt','w',encoding='utf8')\n",
    "rawCate = ['动力','价格','内饰','配置','安全性','外观','操控','油耗','空间','舒适性']\n",
    "rawCateDict = {}\n",
    "doc2text = {}\n",
    "doc2cates = {}\n",
    "\n",
    "senti_word_set = []\n",
    "train.readline()\n",
    "\n",
    "for i,cate in enumerate(rawCate):\n",
    "    rawCateDict[cate] = i+1\n",
    "for line in train.readlines():\n",
    "    line = line.strip().split(',')\n",
    "    docid = line[0] # reserve\n",
    "    text = line[1] # reserve\n",
    "    subject = line[2]\n",
    "    sentiment = int(line[3]) \n",
    "    senti_word = line[4] # to get senti_vocab\n",
    "    newCate = str((rawCateDict[subject]-1)*3+(sentiment+1)) # reserve\n",
    "    if(len(senti_word)>0 and senti_word not in senti_word_set):\n",
    "        senti_word_set.append(senti_word)\n",
    "        senti_vocab.write(senti_word+'\\n')\n",
    "    if(docid not in doc2text):\n",
    "        doc2text[docid] = text\n",
    "    if(docid not in doc2cates):\n",
    "        doc2cates[docid] = [newCate]\n",
    "    else:\n",
    "        doc2cates[docid].append(newCate)\n",
    "print(len(doc2text))\n",
    "print(len(doc2cates))\n",
    "\n",
    "for docid in doc2text.keys():\n",
    "    o.write(docid+'\\t'+doc2text[docid]+'\\t'+','.join(doc2cates[docid])+'\\n')\n",
    "train.close()\n",
    "o.close() \n",
    "senti_vocab.close()"
   ]
  },
  {
   "cell_type": "code",
   "execution_count": 3,
   "metadata": {
    "collapsed": false
   },
   "outputs": [
    {
     "data": {
      "text/plain": [
       "{'动力': 1,\n",
       " '价格': 2,\n",
       " '内饰': 3,\n",
       " '配置': 4,\n",
       " '安全性': 5,\n",
       " '外观': 6,\n",
       " '操控': 7,\n",
       " '油耗': 8,\n",
       " '空间': 9,\n",
       " '舒适性': 10}"
      ]
     },
     "execution_count": 3,
     "metadata": {},
     "output_type": "execute_result"
    }
   ],
   "source": [
    "rawCateDict"
   ]
  },
  {
   "cell_type": "code",
   "execution_count": 29,
   "metadata": {
    "collapsed": true
   },
   "outputs": [],
   "source": [
    "def decodeCate(cateNum):\n",
    "    rawCate = ['动力','价格','内饰','配置','安全性','外观','操控','油耗','空间','舒适性']\n",
    "    id2cate = {}\n",
    "    for i,cate in enumerate(rawCate):\n",
    "        id2cate[i+1] = cate \n",
    "    cate = id2cate[int(cateNum/3)+1] \n",
    "    sentiment = cateNum%3-1 \n",
    "    return cate,sentiment "
   ]
  },
  {
   "cell_type": "code",
   "execution_count": 36,
   "metadata": {
    "collapsed": true
   },
   "outputs": [],
   "source": [
    "cate,sentiment = decodeCate(28)"
   ]
  },
  {
   "cell_type": "code",
   "execution_count": 37,
   "metadata": {
    "collapsed": false
   },
   "outputs": [
    {
     "data": {
      "text/plain": [
       "'舒适性'"
      ]
     },
     "execution_count": 37,
     "metadata": {},
     "output_type": "execute_result"
    }
   ],
   "source": [
    "cate"
   ]
  },
  {
   "cell_type": "code",
   "execution_count": 38,
   "metadata": {
    "collapsed": false
   },
   "outputs": [
    {
     "data": {
      "text/plain": [
       "0"
      ]
     },
     "execution_count": 38,
     "metadata": {},
     "output_type": "execute_result"
    }
   ],
   "source": [
    "sentiment"
   ]
  },
  {
   "cell_type": "code",
   "execution_count": 64,
   "metadata": {
    "collapsed": true
   },
   "outputs": [],
   "source": [
    "import jieba\n",
    "from collections import Counter\n",
    "\n",
    "def getWordList(trainCorpusPath,wordListPath,topN):\n",
    "    train = open(trainCorpusPath,'r',encoding='utf8')\n",
    "    o = open(wordListPath,'w',encoding='utf8')\n",
    "    train_words = []\n",
    "    for line in train.readlines():\n",
    "        line = line.strip().split('\\t')\n",
    "        text = line[1]\n",
    "        for word in jieba.cut(text):\n",
    "            train_words.append(word)\n",
    "    c = Counter(train_words).most_common(topN) \n",
    "#     c = Counter(train_words)  ## total 17271 vocab\n",
    "    index = 1\n",
    "    for item in c:\n",
    "        o.write(str(item[0])+','+str(item[1])+','+str(index)+'\\n') \n",
    "        index += 1\n",
    "    train.close()\n",
    "    o.close()\n",
    "    "
   ]
  },
  {
   "cell_type": "code",
   "execution_count": 65,
   "metadata": {
    "collapsed": true
   },
   "outputs": [],
   "source": [
    "trainCorpusPath = './train_convert30cates.txt'\n",
    "wordListPath = './wordlist.txt'\n",
    "getWordList(trainCorpusPath,wordListPath,17272) "
   ]
  },
  {
   "cell_type": "code",
   "execution_count": 50,
   "metadata": {
    "collapsed": false
   },
   "outputs": [
    {
     "name": "stdout",
     "output_type": "stream",
     "text": [
      "因\n",
      "为\n",
      ",\n",
      "森\n",
      "林\n",
      ",\n",
      "人\n",
      ",\n",
      "即\n",
      "将\n",
      ",\n",
      "换\n",
      "代\n",
      ",\n",
      "，\n",
      ",\n",
      "这\n",
      "套\n",
      ",\n",
      "系\n",
      "统\n",
      ",\n",
      "没\n",
      ",\n",
      "必\n",
      "要\n",
      ",\n",
      "装\n",
      "在\n",
      ",\n",
      "一\n",
      "款\n",
      ",\n",
      "即\n",
      "将\n",
      ",\n",
      "换\n",
      "代\n",
      ",\n",
      "的\n",
      ",\n",
      "车\n",
      "型\n",
      ",\n",
      "上\n",
      ",\n",
      "，\n",
      ",\n",
      "因\n",
      "为\n",
      ",\n",
      "肯\n",
      "定\n",
      ",\n",
      "会\n",
      ",\n",
      "影\n",
      "响\n",
      ",\n",
      "价\n",
      "格\n",
      ",\n",
      "。\n"
     ]
    }
   ],
   "source": [
    "import jieba \n",
    "s = '因为森林人即将换代，这套系统没必要装在一款即将换代的车型上，因为肯定会影响价格。'\n",
    "cut = ','.join(jieba.cut(s)) \n",
    "for word in cut:\n",
    "    print(word) "
   ]
  },
  {
   "cell_type": "code",
   "execution_count": null,
   "metadata": {
    "collapsed": true
   },
   "outputs": [],
   "source": []
  }
 ],
 "metadata": {
  "kernelspec": {
   "display_name": "Python 3",
   "language": "python",
   "name": "python3"
  },
  "language_info": {
   "codemirror_mode": {
    "name": "ipython",
    "version": 3
   },
   "file_extension": ".py",
   "mimetype": "text/x-python",
   "name": "python",
   "nbconvert_exporter": "python",
   "pygments_lexer": "ipython3",
   "version": "3.6.0"
  }
 },
 "nbformat": 4,
 "nbformat_minor": 2
}
